{
 "cells": [
  {
   "cell_type": "code",
   "execution_count": 1,
   "metadata": {},
   "outputs": [],
   "source": [
    "from turtle import *\n",
    "import colorsys\n",
    "import math\n",
    "\n",
    "speed(0.25)\n",
    "bgcolor(\"black\")\n",
    "\n",
    "# Genera los petalos\n",
    "goto(0, -40)\n",
    "h = 0\n",
    "\n",
    "for i in range(16):\n",
    "    for j in range(18):\n",
    "        c= colorsys.hsv_to_rgb(0.125 , 1, 1)\n",
    "        color(c)\n",
    "        rt(90)\n",
    "        circle(150-j*6, 90)\n",
    "        lt(90)\n",
    "        circle(150-j*6, 90)\n",
    "        rt(180)\n",
    "    circle(40, 24)\n",
    "\n",
    "# Genera la parte centrall de la flor\n",
    "color(\"black\") \n",
    "shape(\"turtle\")\n",
    "fillcolor(\"brown\")\n",
    "phi = 137.508 * (math.pi/ 180.0)\n",
    "\n",
    "for i in range (200):\n",
    "    r = 4 * math.sqrt(i)\n",
    "    theta = i*phi\n",
    "    x = r * math.cos(theta)\n",
    "    y = r * math.sin(theta)\n",
    "    penup()\n",
    "    goto(x, y)\n",
    "    setheading(i * 137.508)\n",
    "    pendown()\n",
    "    stamp()\n",
    "\n",
    "done()\n"
   ]
  }
 ],
 "metadata": {
  "kernelspec": {
   "display_name": "Python 3",
   "language": "python",
   "name": "python3"
  },
  "language_info": {
   "codemirror_mode": {
    "name": "ipython",
    "version": 3
   },
   "file_extension": ".py",
   "mimetype": "text/x-python",
   "name": "python",
   "nbconvert_exporter": "python",
   "pygments_lexer": "ipython3",
   "version": "3.11.5"
  },
  "orig_nbformat": 4
 },
 "nbformat": 4,
 "nbformat_minor": 2
}
